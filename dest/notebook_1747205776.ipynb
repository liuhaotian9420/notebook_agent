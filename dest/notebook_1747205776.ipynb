{
 "cells": [
  {
   "cell_type": "markdown",
   "metadata": {},
   "source": [
    "# 假设检验分析：tmall_order_report.csv\n",
    "## 数据概览\n",
    "首先，我们对数据进行了初步的概览，以下是关键统计信息：\n",
    "1. **订单编号**：共28010条记录，均值为14005.5，标准差为8085.93。\n",
    "2. **总金额**：均值为106.95，标准差为1136.59，最大值高达188320。\n",
    "3. **买家实际支付金额**：均值为67.92，标准差为151.49，最大值16065。\n",
    "4. **退款金额**：均值为20.43，标准差为71.50，最大值3800。"
   ]
  },
  {
   "cell_type": "markdown",
   "metadata": {},
   "source": [
    "## 假设检验\n",
    "### 假设1：买家实际支付金额的均值是否显著高于退款金额的均值？\n",
    "**零假设（H0）**：买家实际支付金额的均值等于退款金额的均值。\n",
    "**备择假设（H1）**：买家实际支付金额的均值大于退款金额的均值。\n",
    "**方法**：使用独立样本t检验，比较两组数据的均值。\n",
    "\n",
    "### 假设2：总金额与买家实际支付金额是否存在显著相关性？\n",
    "**零假设（H0）**：总金额与买家实际支付金额无显著相关性。\n",
    "**备择假设（H1）**：总金额与买家实际支付金额存在显著相关性。\n",
    "**方法**：使用皮尔逊相关系数检验。\n",
    "\n",
    "### 假设3：退款金额的分布是否符合正态分布？\n",
    "**零假设（H0）**：退款金额服从正态分布。\n",
    "**备择假设（H1）**：退款金额不服从正态分布。\n",
    "**方法**：使用Shapiro-Wilk正态性检验。"
   ]
  },
  {
   "cell_type": "code",
   "execution_count": null,
   "metadata": {},
   "outputs": [],
   "source": [
    "import pandas as pd\n",
    "import scipy.stats as stats\n",
    "import os\n",
    "\n",
    "# 读取数据\n",
    "file_path = os.path.join('../data', 'tmall_order_report.csv')\n",
    "data = pd.read_csv(file_path)\n",
    "\n",
    "# 假设1：独立样本t检验\n",
    "t_stat, p_value = stats.ttest_ind(data['买家实际支付金额'], data['退款金额'], alternative='greater')\n",
    "print(f\"假设1的p值：{p_value}\")\n",
    "\n",
    "# 假设2：皮尔逊相关系数检验\n",
    "corr, p_value = stats.pearsonr(data['总金额'], data['买家实际支付金额'])\n",
    "print(f\"假设2的相关系数：{corr}, p值：{p_value}\")\n",
    "\n",
    "# 假设3：Shapiro-Wilk正态性检验\n",
    "stat, p_value = stats.shapiro(data['退款金额'])\n",
    "print(f\"假设3的p值：{p_value}\")"
   ]
  },
  {
   "cell_type": "markdown",
   "metadata": {},
   "source": [
    "## 结果解释\n",
    "1. **假设1**：如果p值小于显著性水平（如0.05），则拒绝零假设，认为买家实际支付金额的均值显著高于退款金额的均值。\n",
    "2. **假设2**：如果p值小于显著性水平，则拒绝零假设，认为总金额与买家实际支付金额存在显著相关性。\n",
    "3. **假设3**：如果p值小于显著性水平，则拒绝零假设，认为退款金额不服从正态分布。"
   ]
  },
  {
   "cell_type": "markdown",
   "metadata": {},
   "source": [
    "## 结论\n",
    "根据检验结果，可以进一步分析数据中的模式和异常，为业务决策提供支持。"
   ]
  }
 ],
 "metadata": {
  "kernelspec": {
   "display_name": "Python 3",
   "language": "python",
   "name": "python3"
  },
  "language_info": {
   "codemirror_mode": {
    "name": "ipython",
    "version": 3
   },
   "file_extension": ".py",
   "mimetype": "text/x-python",
   "name": "python",
   "nbconvert_exporter": "python",
   "pygments_lexer": "ipython3",
   "version": "3.8.5"
  }
 },
 "nbformat": 4,
 "nbformat_minor": 4
}