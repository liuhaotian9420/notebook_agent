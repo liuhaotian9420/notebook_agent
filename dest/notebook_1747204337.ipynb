{
 "cells": [
  {
   "cell_type": "code",
   "execution_count": 1,
   "metadata": {},
   "outputs": [],
   "source": [
    "import pandas as pd\n",
    "import numpy as np\n",
    "import matplotlib.pyplot as plt\n",
    "import seaborn as sns\n",
    "import scipy.stats as stats\n",
    "import os\n",
    "\n",
    "# 确保中文字符显示\n",
    "plt.rcParams['font.sans-serif'] = ['SimHei']\n",
    "plt.rcParams['axes.unicode_minus'] = False"
   ]
  },
  {
   "cell_type": "markdown",
   "metadata": {},
   "source": [
    "## 1. 数据加载与初步探索"
   ]
  },
  {
   "cell_type": "code",
   "execution_count": 2,
   "metadata": {},
   "outputs": [
    {
     "data": {
      "text/html": [
       "<div>\n",
       "<style scoped>\n",
       "    .dataframe tbody tr th:only-of-type {\n",
       "        vertical-align: middle;\n",
       "    }\n",
       "\n",
       "    .dataframe tbody tr th {\n",
       "        vertical-align: top;\n",
       "    }\n",
       "\n",
       "    .dataframe thead th {\n",
       "        text-align: right;\n",
       "    }\n",
       "</style>\n",
       "<table border=\"1\" class=\"dataframe\">\n",
       "  <thead>\n",
       "    <tr style=\"text-align: right;\">\n",
       "      <th></th>\n",
       "      <th>订单编号</th>\n",
       "      <th>总金额</th>\n",
       "      <th>买家实际支付金额</th>\n",
       "      <th>收货地址</th>\n",
       "      <th>订单创建时间</th>\n",
       "      <th>订单付款时间</th>\n",
       "      <th>退款金额</th>\n",
       "    </tr>\n",
       "  </thead>\n",
       "  <tbody>\n",
       "    <tr>\n",
       "      <th>0</th>\n",
       "      <td>1</td>\n",
       "      <td>178.8</td>\n",
       "      <td>0.0</td>\n",
       "      <td>上海</td>\n",
       "      <td>2020-02-21 00:00:00</td>\n",
       "      <td>NaN</td>\n",
       "      <td>0.0</td>\n",
       "    </tr>\n",
       "    <tr>\n",
       "      <th>1</th>\n",
       "      <td>2</td>\n",
       "      <td>21.0</td>\n",
       "      <td>21.0</td>\n",
       "      <td>内蒙古自治区</td>\n",
       "      <td>2020-02-20 23:59:54</td>\n",
       "      <td>2020-02-21 00:00:02</td>\n",
       "      <td>0.0</td>\n",
       "    </tr>\n",
       "    <tr>\n",
       "      <th>2</th>\n",
       "      <td>3</td>\n",
       "      <td>37.0</td>\n",
       "      <td>0.0</td>\n",
       "      <td>安徽省</td>\n",
       "      <td>2020-02-20 23:59:35</td>\n",
       "      <td>NaN</td>\n",
       "      <td>0.0</td>\n",
       "    </tr>\n",
       "    <tr>\n",
       "      <th>3</th>\n",
       "      <td>4</td>\n",
       "      <td>157.0</td>\n",
       "      <td>157.0</td>\n",
       "      <td>湖南省</td>\n",
       "      <td>2020-02-20 23:58:34</td>\n",
       "      <td>2020-02-20 23:58:44</td>\n",
       "      <td>0.0</td>\n",
       "    </tr>\n",
       "    <tr>\n",
       "      <th>4</th>\n",
       "      <td>5</td>\n",
       "      <td>64.8</td>\n",
       "      <td>0.0</td>\n",
       "      <td>江苏省</td>\n",
       "      <td>2020-02-20 23:57:04</td>\n",
       "      <td>2020-02-20 23:57:11</td>\n",
       "      <td>64.8</td>\n",
       "    </tr>\n",
       "  </tbody>\n",
       "</table>\n",
       "</div>"
      ],
      "text/plain": [
       "   订单编号    总金额  买家实际支付金额   收货地址                订单创建时间              订单付款时间   \\\n",
       "0     1  178.8       0.0      上海  2020-02-21 00:00:00                  NaN   \n",
       "1     2   21.0      21.0  内蒙古自治区  2020-02-20 23:59:54  2020-02-21 00:00:02   \n",
       "2     3   37.0       0.0     安徽省  2020-02-20 23:59:35                  NaN   \n",
       "3     4  157.0     157.0     湖南省  2020-02-20 23:58:34  2020-02-20 23:58:44   \n",
       "4     5   64.8       0.0     江苏省  2020-02-20 23:57:04  2020-02-20 23:57:11   \n",
       "\n",
       "   退款金额  \n",
       "0   0.0  \n",
       "1   0.0  \n",
       "2   0.0  \n",
       "3   0.0  \n",
       "4  64.8  "
      ]
     },
     "execution_count": 2,
     "metadata": {},
     "output_type": "execute_result"
    }
   ],
   "source": [
    "# 读取数据\n",
    "file_path = os.path.join('../data', 'tmall_order_report.csv')\n",
    "data = pd.read_csv(file_path)\n",
    "\n",
    "# 显示数据前几行\n",
    "data.head()"
   ]
  },
  {
   "cell_type": "code",
   "execution_count": 3,
   "metadata": {},
   "outputs": [
    {
     "data": {
      "text/html": [
       "<div>\n",
       "<style scoped>\n",
       "    .dataframe tbody tr th:only-of-type {\n",
       "        vertical-align: middle;\n",
       "    }\n",
       "\n",
       "    .dataframe tbody tr th {\n",
       "        vertical-align: top;\n",
       "    }\n",
       "\n",
       "    .dataframe thead th {\n",
       "        text-align: right;\n",
       "    }\n",
       "</style>\n",
       "<table border=\"1\" class=\"dataframe\">\n",
       "  <thead>\n",
       "    <tr style=\"text-align: right;\">\n",
       "      <th></th>\n",
       "      <th>订单编号</th>\n",
       "      <th>总金额</th>\n",
       "      <th>买家实际支付金额</th>\n",
       "      <th>退款金额</th>\n",
       "    </tr>\n",
       "  </thead>\n",
       "  <tbody>\n",
       "    <tr>\n",
       "      <th>count</th>\n",
       "      <td>28010.000000</td>\n",
       "      <td>28010.000000</td>\n",
       "      <td>28010.000000</td>\n",
       "      <td>28010.000000</td>\n",
       "    </tr>\n",
       "    <tr>\n",
       "      <th>mean</th>\n",
       "      <td>14005.500000</td>\n",
       "      <td>106.953253</td>\n",
       "      <td>67.921712</td>\n",
       "      <td>20.433271</td>\n",
       "    </tr>\n",
       "    <tr>\n",
       "      <th>std</th>\n",
       "      <td>8085.934856</td>\n",
       "      <td>1136.587094</td>\n",
       "      <td>151.493434</td>\n",
       "      <td>71.501963</td>\n",
       "    </tr>\n",
       "    <tr>\n",
       "      <th>min</th>\n",
       "      <td>1.000000</td>\n",
       "      <td>1.000000</td>\n",
       "      <td>0.000000</td>\n",
       "      <td>0.000000</td>\n",
       "    </tr>\n",
       "    <tr>\n",
       "      <th>25%</th>\n",
       "      <td>7003.250000</td>\n",
       "      <td>38.000000</td>\n",
       "      <td>0.000000</td>\n",
       "      <td>0.000000</td>\n",
       "    </tr>\n",
       "    <tr>\n",
       "      <th>50%</th>\n",
       "      <td>14005.500000</td>\n",
       "      <td>75.000000</td>\n",
       "      <td>45.000000</td>\n",
       "      <td>0.000000</td>\n",
       "    </tr>\n",
       "    <tr>\n",
       "      <th>75%</th>\n",
       "      <td>21007.750000</td>\n",
       "      <td>119.000000</td>\n",
       "      <td>101.000000</td>\n",
       "      <td>0.000000</td>\n",
       "    </tr>\n",
       "    <tr>\n",
       "      <th>max</th>\n",
       "      <td>28010.000000</td>\n",
       "      <td>188320.000000</td>\n",
       "      <td>16065.000000</td>\n",
       "      <td>3800.000000</td>\n",
       "    </tr>\n",
       "  </tbody>\n",
       "</table>\n",
       "</div>"
      ],
      "text/plain": [
       "               订单编号            总金额      买家实际支付金额          退款金额\n",
       "count  28010.000000   28010.000000  28010.000000  28010.000000\n",
       "mean   14005.500000     106.953253     67.921712     20.433271\n",
       "std     8085.934856    1136.587094    151.493434     71.501963\n",
       "min        1.000000       1.000000      0.000000      0.000000\n",
       "25%     7003.250000      38.000000      0.000000      0.000000\n",
       "50%    14005.500000      75.000000     45.000000      0.000000\n",
       "75%    21007.750000     119.000000    101.000000      0.000000\n",
       "max    28010.000000  188320.000000  16065.000000   3800.000000"
      ]
     },
     "execution_count": 3,
     "metadata": {},
     "output_type": "execute_result"
    }
   ],
   "source": [
    "# 数据摘要\n",
    "data.describe()"
   ]
  },
  {
   "cell_type": "markdown",
   "metadata": {},
   "source": [
    "## 2. 假设检验"
   ]
  },
  {
   "cell_type": "code",
   "execution_count": 4,
   "metadata": {},
   "outputs": [
    {
     "name": "stdout",
     "output_type": "stream",
     "text": [
      "t统计量: 19.79895346894023\n",
      "p值: 1.191137531365778e-86\n",
      "拒绝原假设，买家实际支付金额的均值显著不同于50。\n"
     ]
    }
   ],
   "source": [
    "# 假设：买家实际支付金额的均值是否显著不同于50\n",
    "mean_to_test = 50\n",
    "actual_payment = data['买家实际支付金额'].dropna()\n",
    "\n",
    "# 单样本t检验\n",
    "t_stat, p_value = stats.ttest_1samp(actual_payment, mean_to_test)\n",
    "print(f\"t统计量: {t_stat}\")\n",
    "print(f\"p值: {p_value}\")\n",
    "\n",
    "# 判断显著性\n",
    "alpha = 0.05\n",
    "if p_value < alpha:\n",
    "    print(\"拒绝原假设，买家实际支付金额的均值显著不同于50。\")\n",
    "else:\n",
    "    print(\"无法拒绝原假设，买家实际支付金额的均值与50无显著差异。\")"
   ]
  },
  {
   "cell_type": "markdown",
   "metadata": {},
   "source": [
    "## 3. 结果可视化"
   ]
  },
  {
   "cell_type": "code",
   "execution_count": 5,
   "metadata": {},
   "outputs": [
    {
     "data": {
      "image/png": "[encoded data removed]",
      "text/plain": [
       "<Figure size 1000x600 with 1 Axes>"
      ]
     },
     "metadata": {},
     "output_type": "display_data"
    }
   ],
   "source": [
    "# 绘制买家实际支付金额的分布\n",
    "plt.figure(figsize=(10, 6))\n",
    "sns.histplot(actual_payment, kde=True, bins=50)\n",
    "plt.axvline(mean_to_test, color='red', linestyle='--', label=f'假设均值 ({mean_to_test})')\n",
    "plt.axvline(actual_payment.mean(), color='green', linestyle='--', label=f'实际均值 ({actual_payment.mean():.2f})')\n",
    "plt.title('买家实际支付金额分布')\n",
    "plt.xlabel('金额')\n",
    "plt.ylabel('频数')\n",
    "plt.legend()\n",
    "plt.show()"
   ]
  },
  {
   "cell_type": "markdown",
   "metadata": {},
   "source": [
    "## 4. 结论"
   ]
  },
  {
   "cell_type": "markdown",
   "metadata": {},
   "source": [
    "根据假设检验的结果，我们得出结论：买家实际支付金额的均值是否显著不同于50。"
   ]
  }
 ],
 "metadata": {
  "kernelspec": {
   "display_name": "Python 3",
   "language": "python",
   "name": "python3"
  },
  "language_info": {
   "codemirror_mode": {
    "name": "ipython",
    "version": 3
   },
   "file_extension": ".py",
   "mimetype": "text/x-python",
   "name": "python",
   "nbconvert_exporter": "python",
   "pygments_lexer": "ipython3",
   "version": "3.11.11"
  }
 },
 "nbformat": 4,
 "nbformat_minor": 4
}
