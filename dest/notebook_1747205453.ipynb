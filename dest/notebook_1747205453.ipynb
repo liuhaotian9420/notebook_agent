{
 "cells": [
  {
   "cell_type": "markdown",
   "metadata": {},
   "source": [
    "# 天猫订单报告数据分析与假设检验"
   ]
  },
  {
   "cell_type": "markdown",
   "metadata": {},
   "source": [
    "## 数据概览\n",
    "\n",
    "首先，我们对 `tmall_order_report.csv` 数据集进行了初步的统计分析，以下是关键指标的摘要：\n",
    "\n",
    "1. **订单编号**：共 28,010 条记录，编号范围从 1 到 28,010。\n",
    "2. **总金额**：\n",
    "   - 均值：106.95\n",
    "   - 标准差：1,136.59\n",
    "   - 最小值：1.0\n",
    "   - 最大值：188,320.0\n",
    "3. **买家实际支付金额**：\n",
    "   - 均值：67.92\n",
    "   - 标准差：151.49\n",
    "   - 最小值：0.0\n",
    "   - 最大值：16,065.0\n",
    "4. **退款金额**：\n",
    "   - 均值：20.43\n",
    "   - 标准差：71.50\n",
    "   - 最小值：0.0\n",
    "   - 最大值：3,800.0"
   ]
  },
  {
   "cell_type": "markdown",
   "metadata": {},
   "source": [
    "## 假设检验"
   ]
  },
  {
   "cell_type": "markdown",
   "metadata": {},
   "source": [
    "### 假设 1：买家实际支付金额与退款金额是否存在显著差异？\n",
    "\n",
    "**零假设 (H0)**：买家实际支付金额与退款金额的均值无显著差异。\n",
    "**备择假设 (H1)**：买家实际支付金额与退款金额的均值存在显著差异。\n",
    "\n",
    "#### 检验方法\n",
    "我们将使用 **独立样本 t 检验** 来比较两组数据的均值差异是否显著。"
   ]
  },
  {
   "cell_type": "markdown",
   "metadata": {},
   "source": [
    "### 假设 2：高总金额订单是否更容易发生退款？\n",
    "\n",
    "**零假设 (H0)**：高总金额订单的退款金额与低总金额订单的退款金额无显著差异。\n",
    "**备择假设 (H1)**：高总金额订单的退款金额显著高于低总金额订单。\n",
    "\n",
    "#### 检验方法\n",
    "我们将使用 **分组 t 检验** 或 **Mann-Whitney U 检验**（如果数据不满足正态性假设）来验证这一假设。"
   ]
  },
  {
   "cell_type": "markdown",
   "metadata": {},
   "source": [
    "## 代码实现\n",
    "\n",
    "以下是实现上述假设检验的 Python 代码框架："
   ]
  },
  {
   "cell_type": "code",
   "execution_count": 3,
   "metadata": {},
   "outputs": [
    {
     "name": "stdout",
     "output_type": "stream",
     "text": [
      "假设 1 的 p 值：0.0\n",
      "假设 2 的 p 值（Mann-Whitney U 检验）：3.581465099998367e-52\n"
     ]
    }
   ],
   "source": [
    "import pandas as pd\n",
    "import scipy.stats as stats\n",
    "import os\n",
    "\n",
    "# 读取数据\n",
    "file_path = os.path.join('../data', 'tmall_order_report.csv')\n",
    "data = pd.read_csv(file_path)\n",
    "\n",
    "# 假设 1：买家实际支付金额与退款金额的 t 检验\n",
    "t_stat, p_value = stats.ttest_ind(data['买家实际支付金额'], data['退款金额'], nan_policy='omit')\n",
    "print(f\"假设 1 的 p 值：{p_value}\")\n",
    "\n",
    "# 假设 2：高总金额订单与低总金额订单的退款金额比较\n",
    "median_total = data['总金额'].median()\n",
    "high_total = data[data['总金额'] > median_total]['退款金额']\n",
    "low_total = data[data['总金额'] <= median_total]['退款金额']\n",
    "\n",
    "# 检查正态性\n",
    "if stats.normaltest(high_total).pvalue > 0.05 and stats.normaltest(low_total).pvalue > 0.05:\n",
    "    t_stat, p_value = stats.ttest_ind(high_total, low_total)\n",
    "    print(f\"假设 2 的 p 值（t 检验）：{p_value}\")\n",
    "else:\n",
    "    u_stat, p_value = stats.mannwhitneyu(high_total, low_total)\n",
    "    print(f\"假设 2 的 p 值（Mann-Whitney U 检验）：{p_value}\")"
   ]
  },
  {
   "cell_type": "markdown",
   "metadata": {},
   "source": [
    "## 结果解读\n",
    "\n",
    "- **假设 1**：如果 p 值小于显著性水平（如 0.05），则拒绝零假设，认为两组数据的均值存在显著差异。\n",
    "- **假设 2**：如果 p 值小于显著性水平，则拒绝零假设，认为高总金额订单的退款金额显著高于低总金额订单。"
   ]
  },
  {
   "cell_type": "markdown",
   "metadata": {},
   "source": [
    "## 结论\n",
    "\n",
    "根据检验结果，我们可以得出关于订单金额与退款行为之间关系的结论，并为业务决策提供数据支持。"
   ]
  }
 ],
 "metadata": {
  "kernelspec": {
   "display_name": "Python 3",
   "language": "python",
   "name": "python3"
  },
  "language_info": {
   "codemirror_mode": {
    "name": "ipython",
    "version": 3
   },
   "file_extension": ".py",
   "mimetype": "text/x-python",
   "name": "python",
   "nbconvert_exporter": "python",
   "pygments_lexer": "ipython3",
   "version": "3.11.11"
  }
 },
 "nbformat": 4,
 "nbformat_minor": 4
}
