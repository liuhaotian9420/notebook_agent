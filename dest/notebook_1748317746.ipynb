{
 "cells": [
  {
   "cell_type": "code",
   "execution_count": null,
   "metadata": {},
   "outputs": [],
   "source": [
    "import numpy as np\nimport matplotlib.pyplot as plt\nimport os\n\n# 设置中文字体显示\nplt.rcParams['font.sans-serif'] = ['SimHei']  # 用来正常显示中文标签\nplt.rcParams['axes.unicode_minus'] = False  # 用来正常显示负号\n\n# 随机生成数据点\nnp.random.seed(42)\nx = np.random.rand(50)\ny = np.random.rand(50)\n\n# 绘制散点图\nplt.scatter(x, y, color='blue', alpha=0.6)\nplt.title('随机生成的数据点散点图')\nplt.xlabel('X轴')\nplt.ylabel('Y轴')\nplt.grid(True)\nplt.show()\n\n# 保存数据到文件（示例）\ndata_dir = '../data'\nif not os.path.exists(data_dir):\n    os.makedirs(data_dir)\n\nfile_path = os.path.join(data_dir, 'random_points.csv')\nnp.savetxt(file_path, np.column_stack((x, y)), delimiter=',', header='x,y', comments='')"
   ]
  }
 ],
 "metadata": {
  "kernelspec": {
   "display_name": "Python 3",
   "language": "python",
   "name": "python3"
  },
  "language_info": {
   "codemirror_mode": {
    "name": "ipython",
    "version": 3
   },
   "file_extension": ".py",
   "mimetype": "text/x-python",
   "name": "python",
   "nbconvert_exporter": "python",
   "pygments_lexer": "ipython3",
   "version": "3.8.5"
  }
 },
 "nbformat": 4,
 "nbformat_minor": 4
}